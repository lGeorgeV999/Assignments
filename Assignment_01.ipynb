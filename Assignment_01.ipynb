{
 "cells": [
  {
   "cell_type": "markdown",
   "id": "6ee0de95",
   "metadata": {},
   "source": [
    "#### Q1. What is the purpose of Python's OOP?"
   ]
  },
  {
   "cell_type": "raw",
   "id": "33ac5eff",
   "metadata": {},
   "source": [
    "==> The purpose of Python's Object-Oriented Programming (OOP) is to implement real-world entities using concepts like     Class, inheritance, polymorphism, encapsulation, and abstraction in programming. \n",
    "  * OOP provides a clear program structure and clean code, which facilitates easy maintenance and modification of code.\n",
    "  * It also enables reusability of code through inheritance, which allows the use of existing classes to create new classes instead of recreating them.\n",
    "  * Data is kept safe through encapsulation, which restricts access to class members from outside the class. Overall, Python's OOP allows for efficient and easy-to-understand programming.\n",
    "  * The Main concept of the OOPs\n",
    "    Class\n",
    "    Objects\n",
    "    Polymorphism\n",
    "    Encapsulation\n",
    "    Inheritance\n",
    "    Data Abstraction"
   ]
  },
  {
   "cell_type": "markdown",
   "id": "5de46a41",
   "metadata": {},
   "source": [
    "#### Q2. Where does an inheritance search look for an attribute?"
   ]
  },
  {
   "cell_type": "raw",
   "id": "bc46a0f5",
   "metadata": {},
   "source": [
    "==> An inheritance search looks for an attribute first in the instance object , then in the class the instance was created from, then in all higher superclasses"
   ]
  },
  {
   "cell_type": "markdown",
   "id": "e83ae5f8",
   "metadata": {},
   "source": [
    "#### Q3. How do you distinguish between a class object and an instance object?"
   ]
  },
  {
   "cell_type": "raw",
   "id": "7d183f21",
   "metadata": {},
   "source": [
    "==> In object-oriented programming, a class is a blueprint or template that defines the characteristics and behaviors     of a particular collection of objects. An object, on the other hand, is an instance of a class. When you create an     object, you are essentially creating a specific instance of the class, with its own set of member variables and       methods.\n",
    "\n",
    " Here are some key differences between a class object and an instance object:\n",
    "\n",
    " * A class object is the class itself, while an instance object is a specific instance of the class.\n",
    " * A class object defines the attributes and behaviors that will be shared by all instances of the class, while an instance object has its own unique set of attributes and behaviors.\n",
    " * A class object can be used to create multiple instance objects, while an instance object can only exist as a single, specific instance of the class.\n",
    " * Class objects are used to define the structure and behavior of objects, while instance objects are used to represent specific instances of that structure and behavior.\n",
    " * In summary, a class object defines the blueprint for creating instances of the class, while an instance object is a specific realization of that blueprint."
   ]
  },
  {
   "cell_type": "markdown",
   "id": "86cdf82e",
   "metadata": {},
   "source": [
    "#### Q4. What makes the first argument in a class’s method function special?"
   ]
  },
  {
   "cell_type": "raw",
   "id": "f74dd4df",
   "metadata": {},
   "source": [
    "==> The calling process is automatic while the receiving process is not (its explicit). This is the reason the first parameter of a function in class must be the object itself. Writing this parameter as self is merely a convention."
   ]
  },
  {
   "cell_type": "markdown",
   "id": "92ce2bbb",
   "metadata": {},
   "source": [
    "#### Q5. What is the purpose of the __init__ method?"
   ]
  },
  {
   "cell_type": "raw",
   "id": "a84832d0",
   "metadata": {},
   "source": [
    "==> The __init__ method lets the class initialize the object's attributes and serves no other purpose. \n",
    "    It is only used within classes."
   ]
  },
  {
   "cell_type": "markdown",
   "id": "aba9af6e",
   "metadata": {},
   "source": [
    "#### Q6. What is the process for creating a class instance?"
   ]
  },
  {
   "cell_type": "raw",
   "id": "4896f4cb",
   "metadata": {},
   "source": [
    "==> To create an instance of a class, we need to call the class using the class name, just like calling a function, and pass in any arguments that the __init__ method of the class accepts. Here is an example:\n",
    "\n",
    "class MyClass:\n",
    "  def __init__(self, arg1, arg2):\n",
    "    # initialize instance variables\n",
    "    self.some_attribute = arg1\n",
    "    self.another_attribute = arg2\n",
    "\n",
    "# create an instance of MyClass\n",
    "my_object = MyClass(\"value1\", \"value2\")\n",
    "In this example, we define a class called MyClass and then create an instance of it by calling the class and passing in two arguments for the __init__ method. The instance is created and stored in the variable my_object.\n",
    "\n",
    "So, the process for creating a class instance involves calling the class with any necessary arguments and storing the resulting instance in a variable for later use."
   ]
  },
  {
   "cell_type": "markdown",
   "id": "09393b30",
   "metadata": {},
   "source": [
    "#### Q7. What is the process for creating a class?"
   ]
  },
  {
   "cell_type": "raw",
   "id": "b5426f74",
   "metadata": {},
   "source": [
    "==> To create a class in Python, you use the class statement, followed by the name of the class, and a colon (:). You can then define the attributes and methods of the class within the class block. Here is an example:\n",
    "\n",
    "class MyClass:\n",
    "    def __init__(self, arg1, arg2):\n",
    "        self.arg1 = arg1\n",
    "        self.arg2 = arg2\n",
    "\n",
    "    def my_method(self):\n",
    "        print('Hello, world!')\n",
    "        \n",
    " In the above example, we define a class called MyClass with two attributes arg1 and arg2 and a method called my_method(). The __init__() method is called the constructor and is executed when an instance of the class is created. The self parameter is a reference to the instance of the class.\n",
    "\n",
    " Once you have defined the class, now we can create an instance of it, like this:\n",
    "\n",
    "my_instance = MyClass('value1', 'value2')\n",
    "Now, my_instance is an object of class MyClass, with arg1 set to 'value1' and arg2 set to 'value2'. You can then call the method on the instance:\n",
    "\n",
    "my_instance.my_method()  # Output: 'Hello, world!'"
   ]
  },
  {
   "cell_type": "markdown",
   "id": "fa3ff560",
   "metadata": {},
   "source": [
    "#### Q8. How would you define the superclasses of a class?"
   ]
  },
  {
   "cell_type": "raw",
   "id": "853b908f",
   "metadata": {},
   "source": [
    "The superclasses of a class are any classes that it directly or indirectly inherits from. In other words, a superclass is a class that a subclass derives from. In object-oriented programming, inheritance allows a subclass to inherit the fields and methods of its superclass, which can help to prevent code duplication and make it easier to extend or modify the behavior of a class.\n",
    "\n",
    "To define a subclass in Python, we can use the class keyword followed by the name of the subclass and the name of the superclass that it inherits from in parentheses:\n",
    "\n",
    "class SubclassName(SuperclassName):\n",
    "    # subclass definition here\n",
    "If the superclass itself inherits from another class, you would include that class in the parentheses as well. In Python, you can also define multiple inheritance, where a subclass inherits from multiple superclasses. In this case, you would list all of the superclass names in the parentheses separated by commas.\n"
   ]
  },
  {
   "cell_type": "code",
   "execution_count": null,
   "id": "689d6fff",
   "metadata": {},
   "outputs": [],
   "source": []
  }
 ],
 "metadata": {
  "kernelspec": {
   "display_name": "Python 3 (ipykernel)",
   "language": "python",
   "name": "python3"
  },
  "language_info": {
   "codemirror_mode": {
    "name": "ipython",
    "version": 3
   },
   "file_extension": ".py",
   "mimetype": "text/x-python",
   "name": "python",
   "nbconvert_exporter": "python",
   "pygments_lexer": "ipython3",
   "version": "3.9.12"
  }
 },
 "nbformat": 4,
 "nbformat_minor": 5
}
