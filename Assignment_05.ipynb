{
 "cells": [
  {
   "cell_type": "raw",
   "id": "184669b6",
   "metadata": {},
   "source": [
    "Q1. What is the meaning of multiple inheritance?"
   ]
  },
  {
   "cell_type": "raw",
   "id": "1a9d5536",
   "metadata": {},
   "source": [
    "1.Multiple inheritance is a feature in object-oriented programming where a class can inherit attributes and methods from more than one parent class.\n",
    "\n",
    "2.A single class can have multiple superclasses, each of which contributes to its attributes and behaviors.\n",
    "\n",
    "3.This allows for greater code reuse and flexibility in building complex class hierarchies, as classes can be composed from a combination of existing classes.\n",
    "\n",
    "4.It can also lead to conflicts and ambiguity, as methods or attributes with the same name may be inherited from different classes.\n",
    "\n",
    "5.To address this, programming languages typically provide mechanisms for resolving conflicts, such as specifying which superclass takes precedence or using aliasing.\n",
    "\n",
    "6.Multiple inheritance is supported by many popular programming languages, including C++, Python, and Ruby."
   ]
  },
  {
   "cell_type": "raw",
   "id": "7795ee7c",
   "metadata": {},
   "source": [
    "Q2. What is the concept of delegation?"
   ]
  },
  {
   "cell_type": "raw",
   "id": "716453fb",
   "metadata": {},
   "source": [
    "1.Delegation is a programming pattern where an object forwards a task or responsibility to another object that is better suited to perform it.\n",
    "\n",
    "2.The delegating object simply passes the responsibility on to the delegated object.\n",
    "\n",
    "3.Delegation allows for greater code reuse and flexibility, as it enables objects to collaborate and work together without being tightly coupled.\n",
    "\n",
    "4.Delegation is often used in situations where an object needs to perform a task that requires specialized knowledge or behavior that it doesn't have.\n",
    "\n",
    "5.By delegating the task to a specialized object, the delegating object can avoid the complexity of implementing that behavior itself and focus on its own core responsibilities.\n",
    "\n",
    "6.Delegation is a fundamental concept in many programming paradigms, including object-oriented programming, functional programming, and event-driven programming."
   ]
  },
  {
   "cell_type": "raw",
   "id": "9e1322ef",
   "metadata": {},
   "source": [
    "Q3. What is the concept of composition?"
   ]
  },
  {
   "cell_type": "raw",
   "id": "2d352bbd",
   "metadata": {},
   "source": [
    "1.Composition is a programming pattern where objects are composed of other objects as their parts or components.\n",
    "\n",
    "2.Rather than inheriting behavior from a superclass, an object in a composition relationship is built from smaller objects, each with its own behavior and responsibilities.\n",
    "\n",
    "3.The composite object uses the behaviors of its component objects to implement its own behavior.\n",
    "\n",
    "4.Composition allows for greater flexibility and code reuse than inheritance, as objects can be composed of different combinations of components to achieve different functionality.\n",
    "\n",
    "5.Composition can also simplify code maintenance, as changes to a component object can be made independently of the composite object.\n",
    "\n",
    "6.Composition is a fundamental concept in object-oriented programming and is used extensively in many software frameworks and libraries."
   ]
  },
  {
   "cell_type": "raw",
   "id": "eb776ad5",
   "metadata": {},
   "source": [
    "Q4. What are bound methods and how do we use them?"
   ]
  },
  {
   "cell_type": "raw",
   "id": "c496e52e",
   "metadata": {},
   "source": [
    "In Python, a bound method is a method of an object that is bound to that object, meaning it can access and manipulate the object's state.\n",
    "\n",
    "Bound methods are created when a method is called on an instance of a class. The instance is automatically passed to the method as the first argument, known as \"self\".\n",
    "\n",
    "Bound methods are used to manipulate the state of an object, such as modifying its attributes or invoking other methods on it.\n",
    "\n",
    "To use a bound method, you call it on an instance of a class, just like any other method. The instance is automatically passed to the method as the first argument.\n",
    "\n",
    "Bound methods can also be stored in variables or passed as arguments to other functions or methods. In this case, the method is still bound to the original instance and can access and manipulate its state.\n",
    "\n",
    "Bound methods are a core concept in object-oriented programming and are used extensively in Python and other languages that support object-oriented programming."
   ]
  },
  {
   "cell_type": "raw",
   "id": "a9d28c7b",
   "metadata": {},
   "source": [
    "Q5. What is the purpose of pseudoprivate attributes?"
   ]
  },
  {
   "cell_type": "raw",
   "id": "8e52fadf",
   "metadata": {},
   "source": []
  }
 ],
 "metadata": {
  "kernelspec": {
   "display_name": "Python 3 (ipykernel)",
   "language": "python",
   "name": "python3"
  },
  "language_info": {
   "codemirror_mode": {
    "name": "ipython",
    "version": 3
   },
   "file_extension": ".py",
   "mimetype": "text/x-python",
   "name": "python",
   "nbconvert_exporter": "python",
   "pygments_lexer": "ipython3",
   "version": "3.9.12"
  }
 },
 "nbformat": 4,
 "nbformat_minor": 5
}
