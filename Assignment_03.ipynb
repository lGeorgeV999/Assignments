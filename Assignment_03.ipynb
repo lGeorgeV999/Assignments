{
 "cells": [
  {
   "cell_type": "markdown",
   "id": "8024343f",
   "metadata": {},
   "source": [
    "What is the concept of an abstract superclass?\n",
    "=="
   ]
  },
  {
   "cell_type": "markdown",
   "id": "1f119a9c",
   "metadata": {},
   "source": [
    "In object-oriented programming, an abstract superclass is a class that is designed to be inherited by other classes. An abstract superclass defines common behaviors and properties that are shared by its subclasses, but it cannot be directly instantiated.\n",
    "\n",
    "The key characteristic of an abstract superclass is that it contains one or more abstract methods.\n",
    "Abstract methods are method declarations that do not contain a body, meaning that they do not have an implementation. Instead, they are designed to be overridden by subclasses that inherit from the abstract superclass.\n",
    "\n",
    "By defining abstract methods in an abstract superclass, you can ensure that its subclasses implement certain behaviors, while also allowing each subclass to provide its own implementation. This allows you to define a common interface for a group of related classes, while still allowing each class to be customized to its own specific needs.\n",
    "\n",
    "To use an abstract superclass, you must first create a subclass that extends the abstract class. The subclass must implement all of the abstract methods defined in the superclass, as well as any additional methods or properties that are specific to the subclass. This creates a hierarchical class structure, where the abstract superclass defines a set of behaviors that are inherited by its subclasses, which can then be further customized as needed.\n",
    "\n",
    "\n",
    "\n"
   ]
  },
  {
   "cell_type": "markdown",
   "id": "b19a5f61",
   "metadata": {},
   "source": [
    "What happens when a class statement&#39;s top level contains a basic assignment statement?\n",
    "=="
   ]
  },
  {
   "cell_type": "code",
   "execution_count": 3,
   "id": "9a98ce21",
   "metadata": {},
   "outputs": [
    {
     "name": "stdout",
     "output_type": "stream",
     "text": [
      "42\n",
      "Hello, world!\n",
      "Goodbye, world!\n"
     ]
    }
   ],
   "source": [
    "#When a class statement's top level contains a basic assignment statement, \n",
    "#the assignment creates a class-level attribute. This means that the attribute belongs to the class itself, \n",
    "#rather than to any particular instance of the class.\n",
    "\n",
    "#For example, consider the following code:\n",
    "\n",
    "class MyClass:\n",
    "    class_attr = \"Hello, world!\"\n",
    "\n",
    "    def __init__(self):\n",
    "        self.instance_attr = 42\n",
    "\n",
    "#In this code, the MyClass definition contains a basic assignment statement that creates a class-level \n",
    "#attribute called class_attr. This attribute belongs to the class itself, rather than to any instance of the class.\n",
    "\n",
    "#If we create an instance of the class and access its attributes, \n",
    "#we can see the difference between class-level and instance-level attributes:\n",
    "\n",
    "obj = MyClass()\n",
    "print(obj.instance_attr)\n",
    "\n",
    "print(obj.class_attr)\n",
    "\n",
    "\n",
    "#Here, obj.instance_attr is an instance-level attribute, \n",
    "#because it belongs to a particular instance of the class. obj.class_attr, on the other hand, \n",
    "#is a class-level attribute, because it belongs to the class itself.\n",
    "\n",
    "#Class-level attributes can be accessed and modified through the class, \n",
    "#or through any instance of the class. \n",
    "\n",
    "#For example:\n",
    "\n",
    "MyClass.class_attr = \"Goodbye, world!\"\n",
    "print(obj.class_attr)\n",
    "\n",
    "#Here, we modify the value of MyClass.class_attr by assigning a new value to it. \n",
    "#We can then access the modified value through any instance of the class."
   ]
  },
  {
   "cell_type": "markdown",
   "id": "7b3eceec",
   "metadata": {},
   "source": [
    "Why does a class need to manually call a superclass&#39;s __init__ method?\n",
    "=="
   ]
  },
  {
   "cell_type": "code",
   "execution_count": 5,
   "id": "7928445c",
   "metadata": {},
   "outputs": [],
   "source": [
    "#In Python, a class needs to manually call a superclass's __init__ method for the same reasons as in any other object-oriented programming language.\n",
    "\n",
    "#When a subclass is created in Python, it inherits all of the methods and attributes of its superclass. \n",
    "#However, if the subclass has its own __init__ method, it does not automatically call its superclass's __init__ method. \n",
    "#This is because each class has its own __init__ method, which is responsible for initializing the object's state, \n",
    "#and if the subclass were to automatically call its superclass's __init__ method, it would risk interfering with its own initialization logic.\n",
    "\n",
    "#Instead, the subclass must manually call its superclass's __init__ method, \n",
    "#using the super() function. In Python, the super() function returns a temporary object of the superclass,\n",
    "#which allows the subclass to call its superclass's methods and attributes. \n",
    "#By calling the superclass's __init__ method, \n",
    "#the subclass ensures that the superclass's state and behavior are properly initialized,\n",
    "#and that any inherited attributes and methods are properly set up.\n",
    "\n",
    "#For example,\n",
    "\n",
    "class Animal:\n",
    "    def __init__(self, species):\n",
    "        self.species = species\n",
    "        self.is_alive = True\n",
    "\n",
    "class Dog(Animal):\n",
    "    def __init__(self, breed):\n",
    "        self.breed = breed\n",
    "        super().__init__('Canis lupus familiaris')\n",
    "        \n",
    "#In this code, Dog is a subclass of Animal. When Dog is initialized, \n",
    "#it creates a new attribute breed, which is specific to dogs. \n",
    "#However, it also needs to initialize the attributes inherited from Animal, \n",
    "#such as species and is_alive. To do this, it calls super().__init__('Canis lupus familiaris'), \n",
    "#which calls the __init__ method of the Animal class, passing in the string 'Canis lupus familiaris' as the species argument. \n",
    "#This ensures that the species and is_alive attributes are properly initialized, \n",
    "#while still allowing the Dog class to define its own attributes and behavior.\n"
   ]
  },
  {
   "cell_type": "markdown",
   "id": "b117aef2",
   "metadata": {},
   "source": [
    "How can you augment, instead of completely replacing, an inherited method?\n",
    "=="
   ]
  },
  {
   "cell_type": "code",
   "execution_count": 9,
   "id": "001f9eec",
   "metadata": {},
   "outputs": [
    {
     "name": "stdout",
     "output_type": "stream",
     "text": [
      "The animal makes a sound.\n",
      "The dog barks.\n"
     ]
    }
   ],
   "source": [
    "#In Python, you can augment or modify an inherited method without completely replacing it by calling \n",
    "#the method of the parent class using the super() function.\n",
    "\n",
    "#example:\n",
    "\n",
    "class Animal:\n",
    "    def make_sound(self):\n",
    "        print(\"The animal makes a sound.\")\n",
    "\n",
    "class Dog(Animal):\n",
    "    def make_sound(self):\n",
    "        super().make_sound()  # calling parent class method\n",
    "        print(\"The dog barks.\")\n",
    "\n",
    "dog = Dog()\n",
    "dog.make_sound()  # The animal makes a sound. The dog barks.\n",
    "\n",
    "#In this code, the parent class method is called sound(), while the subclass's method is called make_sound().\n",
    "#To call the parent class method, the super() function is called \n",
    "#with the name of the parent class method as an argument (super().sound())."
   ]
  },
  {
   "cell_type": "markdown",
   "id": "7db7c060",
   "metadata": {},
   "source": [
    "How is the local scope of a class different from that of a function?\n",
    "=="
   ]
  },
  {
   "cell_type": "code",
   "execution_count": 12,
   "id": "00036479",
   "metadata": {},
   "outputs": [
    {
     "name": "stdout",
     "output_type": "stream",
     "text": [
      "Class variable: 10\n",
      "Instance variable: 30\n",
      "Local variable: 5\n"
     ]
    }
   ],
   "source": [
    "#In Python, the local scope of a class is different from that of a function in several ways:\n",
    "\n",
    "#A class has a class scope that is distinct from the local scope of any method defined within the class. \n",
    "#Any names defined within the class body, but outside of any method definitions, \n",
    "#are defined in the class scope and can be accessed by any method in the class.\n",
    "\n",
    "#Unlike in a function, variables defined in a class scope are not local variables, \n",
    "#but are instance variables or class variables, depending on how they are defined.\n",
    "\n",
    "#In a class, methods can access instance variables and class variables that are defined in the class scope, \n",
    "#as well as any variables that are defined within the method.\n",
    "\n",
    "#Unlike in a function, a class does not have access to variables that are defined in the global scope of the module where the class is defined, \n",
    "#unless they are explicitly imported or accessed using the global keyword.\n",
    "\n",
    "#Here's an example that illustrates some of these differences:\n",
    "\n",
    "class MyClass:\n",
    "    class_var = 10  # class variable\n",
    "    \n",
    "    def __init__(self, instance_var):\n",
    "        self.instance_var = instance_var  # instance variable\n",
    "    \n",
    "    def my_method(self):\n",
    "        local_var = 5  # local variable\n",
    "        \n",
    "        print(\"Class variable:\", MyClass.class_var)\n",
    "        print(\"Instance variable:\", self.instance_var)\n",
    "        print(\"Local variable:\", local_var)\n",
    "\n",
    "# create an instance of MyClass\n",
    "obj = MyClass(30)\n",
    "\n",
    "# call my_method on the instance\n",
    "obj.my_method()\n",
    "\n",
    "#In this code, the MyClass class has a class variable class_var,\n",
    "#an instance variable instance_var, and a method my_method that defines a local variable local_var. \n",
    "#When the my_method method is called on an instance of the MyClass class, \n",
    "#it prints the values of the class variable, instance variable, and local variable.\n",
    "\n",
    "#Note that the class variable and instance variable are accessed using the MyClass.class_var and self.instance_var syntax, respectively, \n",
    "#while the local variable is accessed using the local_var variable name.\n",
    "\n",
    "#Overall, the local scope of a class is different from that of a function because it has a distinct class scope,\n",
    "#instance variables and class variables are treated differently than local variables,\n",
    "#and a class does not have access to global variables unless they are explicitly imported or accessed using the global keyword.\n",
    "\n",
    "\n",
    "\n"
   ]
  },
  {
   "cell_type": "code",
   "execution_count": null,
   "id": "20229ffe",
   "metadata": {},
   "outputs": [],
   "source": []
  }
 ],
 "metadata": {
  "kernelspec": {
   "display_name": "Python 3 (ipykernel)",
   "language": "python",
   "name": "python3"
  },
  "language_info": {
   "codemirror_mode": {
    "name": "ipython",
    "version": 3
   },
   "file_extension": ".py",
   "mimetype": "text/x-python",
   "name": "python",
   "nbconvert_exporter": "python",
   "pygments_lexer": "ipython3",
   "version": "3.9.12"
  }
 },
 "nbformat": 4,
 "nbformat_minor": 5
}
