{
 "cells": [
  {
   "cell_type": "markdown",
   "id": "da638769",
   "metadata": {},
   "source": [
    "#### Q1. What is the relationship between classes and modules?"
   ]
  },
  {
   "cell_type": "markdown",
   "id": "faa28258",
   "metadata": {},
   "source": [
    "Classes and modules are both important concepts in object-oriented programming in Python, but they serve different purposes.\n",
    "\n",
    "A class is like a blueprint for creating objects. It contains data attributes and methods that define the behavior of the objects. You can create instances of a class, and each instance has its own unique data in the attributes.A class is used to define the attributes and behavior of an object.\n",
    "\n",
    "A module is a file that contains Python code, including classes, functions, and variables. It provides a way to organize code into reusable units, making it easier to manage and maintain large projects. A module can be imported into other Python code, and its contents can be accessed using dot notation.A module is used to organize and reuse code."
   ]
  },
  {
   "cell_type": "markdown",
   "id": "3673c5ca",
   "metadata": {},
   "source": [
    "#### Q2. How do you make instances and classes?"
   ]
  },
  {
   "cell_type": "code",
   "execution_count": 2,
   "id": "664207a6",
   "metadata": {},
   "outputs": [],
   "source": [
    "#To create instances and classes in Python,\n",
    "\n",
    "#Define a class using the class keyword, followed by the name of the class and a colon.\n",
    "#Define the constructor method __init__(self, <arguments>) to initialize the instance variables of the class.\n",
    "#To create an instance of a class, call the class like a function, passing in any arguments required by the __init__ method.\n",
    "#Here's an example of how to define a class and create instances of it:\n",
    "\n",
    "class Person:\n",
    "    def __init__(self, name, age):\n",
    "        self.name = name\n",
    "        self.age = age\n",
    "\n",
    "person1 = Person(\"Alice\", 25)\n",
    "person2 = Person(\"Bob\", 30)\n",
    "\n",
    "\n",
    "#In this example, we define a Person class with a constructor that takes a name and an age as arguments and initializes the corresponding instance variables. \n",
    "#We then create two Person instances, person1 and person2, by calling the Person class and passing in the required arguments.\n",
    "\n",
    "#Note that instance variables are specific to each instance of the class, while class variables are shared among all instances of the class."
   ]
  },
  {
   "cell_type": "markdown",
   "id": "312c9108",
   "metadata": {},
   "source": [
    "#### Q3. Where and how should be class attributes created?"
   ]
  },
  {
   "cell_type": "code",
   "execution_count": null,
   "id": "ae1ef0d6",
   "metadata": {},
   "outputs": [],
   "source": [
    "#To create class attributes in Python, \n",
    "#you define them directly in the class body, outside of any method definitions. \n",
    "#This means that the attributes are shared by all instances of the class. \n",
    "#For example, the following code defines a class called Person with a class attribute called species:\n",
    "\n",
    "class Person:\n",
    "    species = \"Homo sapiens\"\n",
    "\n",
    "    def __init__(self, name, age):\n",
    "        self.name = name\n",
    "        self.age = age\n",
    "        \n",
    "#In this example, the species attribute is defined outside of the __init__ method, \n",
    "#making it a class attribute. You can access the species attribute for any instance of the Person class by using Person.species. \n",
    "#However, if you were to create a new instance of the class (p = Person(\"John\", 25)), you could also access it through the instance (p.species).\n",
    "\n",
    "#It's important to note that class attributes are mutable, and can be modified by any instance of the class or by the class itself (Person.species = \"Homo erectus\").\n",
    "\n"
   ]
  },
  {
   "cell_type": "markdown",
   "id": "e84db4a7",
   "metadata": {},
   "source": [
    "#### Q4. Where and how are instance attributes created?"
   ]
  },
  {
   "cell_type": "code",
   "execution_count": null,
   "id": "7269ec8d",
   "metadata": {},
   "outputs": [],
   "source": [
    "#Instance attributes are created within the __init__ method of a class, which is called whenever a new instance of the class is created.\n",
    "#The __init__ method is used to initialize the instance attributes with values specific to that instance.\n",
    "\n",
    "#For example, this is how an instance attribute is defined within the __init__ method of a class:\n",
    "\n",
    "class Person:\n",
    "    def __init__(self, name, age):\n",
    "        self.name = name\n",
    "        self.age = age\n",
    "\n",
    "#In this example, the name and age attributes are instance attributes, created within the __init__ method. \n",
    "#Whenever a new instance of the Person class is created, name and age will be initialized to the values passed as arguments.\n"
   ]
  },
  {
   "cell_type": "markdown",
   "id": "bd586567",
   "metadata": {},
   "source": [
    "#### Q5. What does the term &quot;self&quot; in a Python class mean?"
   ]
  },
  {
   "cell_type": "code",
   "execution_count": 3,
   "id": "88cac836",
   "metadata": {},
   "outputs": [
    {
     "name": "stdout",
     "output_type": "stream",
     "text": [
      "Address of self =  140388869366304\n",
      "Address of class object =  140388869366304\n"
     ]
    }
   ],
   "source": [
    "#Self represents the instance of the class. By using the “self”  we can access the attributes and methods of the class in python. \n",
    "#It binds the attributes with the given arguments\n",
    "        \n",
    "#it is clearly seen that self and obj is referring to the same object\n",
    "\n",
    "class check:\n",
    "\tdef __init__(self):\n",
    "\t\tprint(\"Address of self = \",id(self))\n",
    "\n",
    "obj = check()\n",
    "print(\"Address of class object = \",id(obj))"
   ]
  },
  {
   "cell_type": "markdown",
   "id": "01fbd16b",
   "metadata": {},
   "source": [
    "#### Q6. How does a Python class handle operator overloading?"
   ]
  },
  {
   "cell_type": "code",
   "execution_count": 5,
   "id": "26c6e160",
   "metadata": {},
   "outputs": [],
   "source": [
    "#In Python, operator overloading is achieved by defining special methods or magic methods that correspond to particular operators. \n",
    "#These methods have double underscores both at the beginning and end of their names, such as __add__ for the addition operator.\n",
    "\n",
    "#When an operation is performed on an object that involves an overloaded operator, \n",
    "#Python automatically invokes the corresponding special method. \n",
    "#For example, if we overload the addition operator (+) in a class, Python will call the __add__() method when the object is involved in addition.\n",
    "\n",
    "#Here is an example of how to overload the addition operator in a Python class:\n",
    "\n",
    "class MyClass:\n",
    "    def __init__(self, value):\n",
    "        self.value = value\n",
    "\n",
    "    def __add__(self, other):\n",
    "        return MyClass(self.value + other.value)\n",
    "\n",
    "x = MyClass(2)\n",
    "y = MyClass(3)\n",
    "z = x + y"
   ]
  },
  {
   "cell_type": "markdown",
   "id": "e8adc027",
   "metadata": {},
   "source": [
    "#### Q7. When do you consider allowing operator overloading of your classes?"
   ]
  },
  {
   "cell_type": "markdown",
   "id": "71a339be",
   "metadata": {},
   "source": [
    "When one or both operands are of a user-defined class or structure type, operator overloading makes it easier to specify user-defined implementation for such operations. This makes user-defined types more similar to the basic primitive data types in terms of behaviour."
   ]
  },
  {
   "cell_type": "markdown",
   "id": "a2c20cbd",
   "metadata": {},
   "source": [
    "#### Q8. What is the most popular form of operator overloading?"
   ]
  },
  {
   "cell_type": "markdown",
   "id": "d6ec49d4",
   "metadata": {},
   "source": [
    "A very popular and convenient example is the Addition (+) operator.\n",
    "\n",
    "Just think how the ‘+’ operator operates on two numbers and the same operator operates on two strings. It performs “Addition” on numbers whereas it performs “Concatenation” on strings."
   ]
  },
  {
   "cell_type": "markdown",
   "id": "2af2b932",
   "metadata": {},
   "source": [
    "#### Q9. What are the two most important concepts to grasp in order to comprehend Python OOP code?"
   ]
  },
  {
   "cell_type": "code",
   "execution_count": null,
   "id": "e3b68dbe",
   "metadata": {},
   "outputs": [],
   "source": []
  }
 ],
 "metadata": {
  "kernelspec": {
   "display_name": "Python 3 (ipykernel)",
   "language": "python",
   "name": "python3"
  },
  "language_info": {
   "codemirror_mode": {
    "name": "ipython",
    "version": 3
   },
   "file_extension": ".py",
   "mimetype": "text/x-python",
   "name": "python",
   "nbconvert_exporter": "python",
   "pygments_lexer": "ipython3",
   "version": "3.9.12"
  }
 },
 "nbformat": 4,
 "nbformat_minor": 5
}
