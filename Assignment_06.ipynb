{
 "cells": [
  {
   "cell_type": "markdown",
   "id": "bef0ed6c",
   "metadata": {},
   "source": [
    "Q1. Describe three applications for exception processing?\n",
    "=="
   ]
  },
  {
   "cell_type": "markdown",
   "id": "d1e743df",
   "metadata": {},
   "source": [
    "The three application for the exception processing are:\n",
    "1.Error handling: Exception processing is commonly used for error handling in software applications. When an error occurs during program execution, an exception is raised, which can then be caught and handled by the application. This allows the application to gracefully recover from errors and provide feedback to the user, rather than crashing or producing unexpected results.\n",
    "\n",
    "2.Input validation: Exception processing can also be used for input validation, which is the process of checking user input to ensure that it meets certain criteria. If the input does not meet the criteria, an exception can be raised and handled by the application, which can then prompt the user to correct their input. This helps to prevent errors and improve the overall reliability of the application.\n",
    "\n",
    "3.Resource management: Exception processing can also be used for managing resources, such as files, database connections, and network sockets. When a resource is acquired, an exception handler can be used to ensure that the resource is properly released if an error occurs. This helps to prevent resource leaks and other issues that can arise from improperly managing resources."
   ]
  },
  {
   "cell_type": "markdown",
   "id": "fe3729eb",
   "metadata": {},
   "source": [
    "Q2. What happens if you don't do something extra to treat an exception?\n",
    "=="
   ]
  },
  {
   "cell_type": "markdown",
   "id": "e651b57a",
   "metadata": {},
   "source": [
    "1.If an exception is raised during program execution and is not handled by a try-except block or other exception handling mechanism, the program will terminate with an error message.\n",
    "\n",
    "2.The error message will include information about the type of exception that was raised, as well as a traceback that shows the sequence of function calls that led to the exception.\n",
    "\n",
    "3.Depending on the nature of the exception, the program may produce unexpected results or behave in unexpected ways before terminating.\n",
    "\n",
    "4.In some cases, failing to handle an exception can result in resource leaks, such as unclosed files or network connections.\n",
    "\n",
    "5.Failing to handle exceptions can also make it more difficult to debug and troubleshoot problems in the program, as errors may not be caught or reported in a timely manner.\n",
    "\n",
    "6.It is generally considered best practice to handle exceptions in Python code to prevent unexpected program termination, improve reliability, and make it easier to troubleshoot issues."
   ]
  },
  {
   "cell_type": "markdown",
   "id": "4136fee4",
   "metadata": {},
   "source": [
    "Q3. What are your options for recovering from an exception in your script?\n",
    "=="
   ]
  },
  {
   "cell_type": "markdown",
   "id": "5d1e85b8",
   "metadata": {},
   "source": [
    "The options for recovering from an exception\n",
    "\n",
    "1.Try-Except block: One common approach for recovering from an exception in a Python script is to use a try-except block. This allows you to \"catch\" the exception and handle it in a specific way, such as by logging an error message or prompting the user to input valid data.\n",
    "\n",
    "2.Finally block: In addition to the try-except block, you can also use a finally block to ensure that certain code is executed regardless of whether an exception is raised. This can be useful for cleaning up resources or saving data before the program terminates.\n",
    "\n",
    "3.Exception hierarchy: Python has a built-in hierarchy of exception types, which can be used to catch specific types of exceptions. For example, you can catch a ValueError to handle input validation errors or a FileNotFoundError to handle missing file errors.\n",
    "\n",
    "4.Raise another exception: In some cases, you may want to raise a new exception to signal that something unexpected has occurred. This can be done using the raise statement, which allows you to specify the type of exception and an optional error message.\n",
    "\n",
    "5.Ignore the exception: While it is generally not recommended, you can also choose to ignore an exception in your script. This should only be done in cases where the exception is not critical and does not impact the functionality of the program.\n",
    "\n",
    "6.Error handling libraries: Finally, you can also use third-party error handling libraries, such as Sentry or Rollbar, to help you track and recover from exceptions in your Python script. These libraries can provide additional functionality, such as automatic error reporting and alerting, to help you quickly identify and fix issues in your code."
   ]
  },
  {
   "cell_type": "markdown",
   "id": "3635f32e",
   "metadata": {},
   "source": [
    "Q4. Describe two methods for triggering exceptions in your script?\n",
    "=="
   ]
  },
  {
   "cell_type": "code",
   "execution_count": 2,
   "id": "6ceb91bf",
   "metadata": {},
   "outputs": [
    {
     "name": "stdout",
     "output_type": "stream",
     "text": [
      "Enter a number between 1 and 10: 4\n",
      "Error: nonexistent_file.txt not found\n"
     ]
    }
   ],
   "source": [
    "#The two method for triggering the exceptions in script.\n",
    "#1.Raise an exception explicitly: One way to trigger an exception in your Python script is to \n",
    "#raise an exception explicitly using the raise keyword. For example, \n",
    "#you could raise a ValueError exception if the user inputs an invalid value, like this:\n",
    "\n",
    "value = input(\"Enter a number between 1 and 10: \")\n",
    "if not value.isdigit() or int(value) < 1 or int(value) > 10:\n",
    "    raise ValueError(\"Invalid input: please enter a number between 1 and 10\")\n",
    "\n",
    "#This will raise a ValueError exception with the message \"Invalid input: please enter a number between \n",
    "#1 and 10\" if the user enters a value that is not a valid number between 1 and 10.\n",
    "\n",
    "#2.Use built-in functions or methods that raise exceptions: \n",
    "#Another way to trigger exceptions in your Python script is to use built-in functions or methods \n",
    "#that raise exceptions when certain conditions are met. For example, \n",
    "#the open() function in Python raises a FileNotFoundError exception if it cannot find the file that is being opened.\n",
    "#Similarly, the int() function raises a ValueError exception if it is passed a string that cannot be converted \n",
    "#to an integer. Here is an example that demonstrates this:\n",
    "\n",
    "filename = \"nonexistent_file.txt\"\n",
    "try:\n",
    "    with open(filename, \"r\") as f:\n",
    "        contents = f.read()\n",
    "except FileNotFoundError:\n",
    "    print(f\"Error: {filename} not found\")\n",
    "\n",
    "    #This will try to open the file \"nonexistent_file.txt\", which does not exist,\n",
    "    #and will raise a FileNotFoundError exception. The exception is caught in a try-except block and\n",
    "    #a custom error message is printed."
   ]
  },
  {
   "cell_type": "markdown",
   "id": "47f25f22",
   "metadata": {},
   "source": [
    "Q5. Identify two methods for specifying actions to be executed at termination time, regardless of whether or not an exception exists?\n",
    "=="
   ]
  },
  {
   "cell_type": "code",
   "execution_count": 9,
   "id": "1fe80777",
   "metadata": {},
   "outputs": [],
   "source": [
    "#The two methods for specifying actions to be executed at termination time, \n",
    "#regardless of whether or not an exception exists in Python:\n",
    "\n",
    "#Using a finally block: The finally block is a construct in Python that allows you to specify code \n",
    "#that should always be executed, regardless of whether an exception was raised or not. \n",
    "#This block of code is executed after the try and except blocks have finished executing. Here is an example:\n",
    "\n",
    "#try:\n",
    "    # some code that may raise an exception\n",
    "#except:\n",
    "    # handle the exception\n",
    "#finally:\n",
    "    # code to be executed at termination time, regardless of whether an exception occurred or not\n",
    "#In the above example, the finally block will always be executed,\n",
    "#even if an exception is raised and handled in the except block.\n",
    "\n",
    "#Using the atexit module: The atexit module in Python provides a way to register functions to be called \n",
    "#when the Python interpreter is exiting. These functions will be called regardless of whether \n",
    "#the program exits normally or due to an unhandled exception. Here is an example:\n",
    "\n",
    "#import atexit\n",
    "\n",
    "#def exit_handler():\n",
    "    # code to be executed at termination time, regardless of whether an exception occurred or not\n",
    "\n",
    "#atexit.register(exit_handler)\n",
    "\n",
    "#In the above example, the exit_handler function will be called when the Python interpreter is exiting, \n",
    "#regardless of whether the program exits normally or due to an unhandled exception. \n",
    "#You can register multiple exit handlers using the atexit.register() function, \n",
    "#and they will be called in the order they were registered."
   ]
  },
  {
   "cell_type": "code",
   "execution_count": null,
   "id": "b496b67a",
   "metadata": {},
   "outputs": [],
   "source": []
  }
 ],
 "metadata": {
  "kernelspec": {
   "display_name": "Python 3 (ipykernel)",
   "language": "python",
   "name": "python3"
  },
  "language_info": {
   "codemirror_mode": {
    "name": "ipython",
    "version": 3
   },
   "file_extension": ".py",
   "mimetype": "text/x-python",
   "name": "python",
   "nbconvert_exporter": "python",
   "pygments_lexer": "ipython3",
   "version": "3.9.12"
  }
 },
 "nbformat": 4,
 "nbformat_minor": 5
}
