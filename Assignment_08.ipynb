{
 "cells": [
  {
   "cell_type": "markdown",
   "id": "bdd3e46d",
   "metadata": {},
   "source": [
    "Q1. What are the two latest user-defined exception constraints in Python 3.X?\n",
    "=="
   ]
  },
  {
   "cell_type": "markdown",
   "id": "be1d3061",
   "metadata": {},
   "source": [
    "In Python 3.x, there are two latest user-defined exception constraints:\n",
    "\n",
    "1. The exception class should be derived from the built-in Exception class or one of its subclasses.\n",
    "2. The exception class should have an appropriate error message defined, either as an argument passed to the exception  constructor or as an attribute of the exception class."
   ]
  },
  {
   "cell_type": "markdown",
   "id": "7b903053",
   "metadata": {},
   "source": [
    "Q2. How are class-based exceptions that have been raised matched to handlers?\n",
    "=="
   ]
  },
  {
   "cell_type": "markdown",
   "id": "b8086b67",
   "metadata": {},
   "source": [
    "In Python, when an exception is raised, the interpreter searches for an appropriate exception handler to catch the exception and handle it. \n",
    "1. The process of matching a raised exception to an exception handler is called exception handling.\n",
    "2. Class-based exceptions that have been raised are matched to handlers based on their inheritance hierarchy.\n",
    "3. The interpreter starts by searching for a handler that matches the exact class of the raised exception. \n",
    "4. If no such handler is found, the interpreter looks for handlers that match the base classes of the raised exception, in the order in which they are listed in the exception's inheritance hierarchy. \n",
    "5. This search continues until a matching handler is found or until the interpreter reaches the base class of all exceptions, Exception.\n"
   ]
  },
  {
   "cell_type": "markdown",
   "id": "57b6d20c",
   "metadata": {},
   "source": [
    "Q3. Describe two methods for attaching context information to exception artefacts.\n",
    "=="
   ]
  },
  {
   "cell_type": "markdown",
   "id": "ed9cc8c6",
   "metadata": {},
   "source": [
    "In Python, context information can be attached to exception artifacts to provide additional information about the circumstances in which an exception occurred. This can help with debugging and provide more useful error messages. Here are two methods for attaching context information to exception artifacts:\n",
    "\n",
    "Using the raise statement with an exception object that has context information attached: When raising an exception, you can attach additional context information to the exception object by adding attributes to the exception object. "
   ]
  },
  {
   "cell_type": "code",
   "execution_count": 2,
   "id": "6ca644a7",
   "metadata": {},
   "outputs": [
    {
     "name": "stdout",
     "output_type": "stream",
     "text": [
      "Invalid input\n"
     ]
    }
   ],
   "source": [
    "#For example:\n",
    "\n",
    "class MyError(Exception):\n",
    "    pass\n",
    "\n",
    "try:\n",
    "    raise MyError(\"Something went wrong\") from ValueError(\"Invalid input\")\n",
    "except MyError as e:\n",
    "    print(e.__cause__)\n",
    "    \n",
    "#In this example, we raise a MyError exception and attach a ValueError exception as its cause. \n",
    "#We then catch the MyError exception and print the cause attribute, which contains the ValueError object.\n",
    "#This provides additional context information about the cause of the exception."
   ]
  },
  {
   "cell_type": "code",
   "execution_count": 4,
   "id": "31cbd46b",
   "metadata": {},
   "outputs": [
    {
     "name": "stdout",
     "output_type": "stream",
     "text": [
      "Entering context\n",
      "This code is executing within a context\n",
      "Exiting context\n"
     ]
    }
   ],
   "source": [
    "#Using the contextlib.ContextDecorator class to wrap a block of code with context information: \n",
    "#The contextlib module provides a ContextDecorator class that allows you to wrap a block of code with context information. \n",
    "#For example:\n",
    "\n",
    "import contextlib\n",
    "\n",
    "class MyContext(contextlib.ContextDecorator):\n",
    "    def __enter__(self):\n",
    "        print(\"Entering context\")\n",
    "\n",
    "    def __exit__(self, exc_type, exc_value, traceback):\n",
    "        print(\"Exiting context\")\n",
    "\n",
    "with MyContext():\n",
    "    print(\"This code is executing within a context\")\n",
    "\n",
    "    \n",
    "#In this example, we define a custom context manager MyContext that prints a message when entering and exiting the context.\n",
    "#We then use the with statement to wrap a block of code with this context manager. \n",
    "#When the block of code is executed, the context manager's __enter__ method is called, and the message \"Entering context\" is printed. \n",
    "#When the block of code finishes executing, the context manager's __exit__ method is called, and the message \"Exiting context\" is printed. \n",
    "#This provides additional context information about the execution of the block of code."
   ]
  },
  {
   "cell_type": "markdown",
   "id": "69d68f5b",
   "metadata": {},
   "source": [
    "Q4. Describe two methods for specifying the text of an exception object&#39;s error message.\n",
    "=="
   ]
  },
  {
   "cell_type": "code",
   "execution_count": 6,
   "id": "2d4dde22",
   "metadata": {},
   "outputs": [
    {
     "ename": "MyError",
     "evalue": "Something went wrong",
     "output_type": "error",
     "traceback": [
      "\u001b[0;31m---------------------------------------------------------------------------\u001b[0m",
      "\u001b[0;31mMyError\u001b[0m                                   Traceback (most recent call last)",
      "\u001b[0;32m/var/folders/6q/pjbsx_896cb6xf0794334hkc0000gn/T/ipykernel_28259/2559579008.py\u001b[0m in \u001b[0;36m<module>\u001b[0;34m\u001b[0m\n\u001b[1;32m      8\u001b[0m         \u001b[0msuper\u001b[0m\u001b[0;34m(\u001b[0m\u001b[0;34m)\u001b[0m\u001b[0;34m.\u001b[0m\u001b[0m__init__\u001b[0m\u001b[0;34m(\u001b[0m\u001b[0mmessage\u001b[0m\u001b[0;34m)\u001b[0m\u001b[0;34m\u001b[0m\u001b[0;34m\u001b[0m\u001b[0m\n\u001b[1;32m      9\u001b[0m \u001b[0;34m\u001b[0m\u001b[0m\n\u001b[0;32m---> 10\u001b[0;31m \u001b[0;32mraise\u001b[0m \u001b[0mMyError\u001b[0m\u001b[0;34m(\u001b[0m\u001b[0;34m\"Something went wrong\"\u001b[0m\u001b[0;34m)\u001b[0m\u001b[0;34m\u001b[0m\u001b[0;34m\u001b[0m\u001b[0m\n\u001b[0m\u001b[1;32m     11\u001b[0m \u001b[0;34m\u001b[0m\u001b[0m\n\u001b[1;32m     12\u001b[0m \u001b[0;31m#In this example, we define a custom exception class MyError that takes a message string as an argument and passes it to the superclass constructor. When we raise an instance of MyError, the message string is used as the error message.\u001b[0m\u001b[0;34m\u001b[0m\u001b[0;34m\u001b[0m\u001b[0m\n",
      "\u001b[0;31mMyError\u001b[0m: Something went wrong"
     ]
    }
   ],
   "source": [
    "#In Python, the text of an exception object's error message can be specified in various ways. \n",
    "#Here are two methods:\n",
    "\n",
    "#1. Passing a message string as an argument to the exception class constructor: \n",
    "#When creating a custom exception class, you can pass a string argument to the \n",
    "#superclass constructor to set the error message of the exception. For example:\n",
    "\n",
    "class MyError(Exception):\n",
    "    def __init__(self, message):\n",
    "        self.message = message\n",
    "        super().__init__(message)\n",
    "\n",
    "raise MyError(\"Something went wrong\")\n",
    "\n",
    "#In this example, we define a custom exception class MyError that takes a message string as an argument \n",
    "#and passes it to the superclass constructor. When we raise an instance of MyError, \n",
    "#the message string is used as the error message.\n"
   ]
  },
  {
   "cell_type": "code",
   "execution_count": 7,
   "id": "9b94bcf0",
   "metadata": {},
   "outputs": [
    {
     "ename": "ValueError",
     "evalue": "Invalid value: 42",
     "output_type": "error",
     "traceback": [
      "\u001b[0;31m---------------------------------------------------------------------------\u001b[0m",
      "\u001b[0;31mValueError\u001b[0m                                Traceback (most recent call last)",
      "\u001b[0;32m/var/folders/6q/pjbsx_896cb6xf0794334hkc0000gn/T/ipykernel_28259/877756169.py\u001b[0m in \u001b[0;36m<module>\u001b[0;34m\u001b[0m\n\u001b[1;32m      5\u001b[0m \u001b[0mvalue\u001b[0m \u001b[0;34m=\u001b[0m \u001b[0;36m42\u001b[0m\u001b[0;34m\u001b[0m\u001b[0;34m\u001b[0m\u001b[0m\n\u001b[1;32m      6\u001b[0m \u001b[0mmessage\u001b[0m \u001b[0;34m=\u001b[0m \u001b[0;34m\"Invalid value: %s\"\u001b[0m \u001b[0;34m%\u001b[0m \u001b[0mvalue\u001b[0m\u001b[0;34m\u001b[0m\u001b[0;34m\u001b[0m\u001b[0m\n\u001b[0;32m----> 7\u001b[0;31m \u001b[0;32mraise\u001b[0m \u001b[0mValueError\u001b[0m\u001b[0;34m(\u001b[0m\u001b[0mmessage\u001b[0m\u001b[0;34m)\u001b[0m\u001b[0;34m\u001b[0m\u001b[0;34m\u001b[0m\u001b[0m\n\u001b[0m\u001b[1;32m      8\u001b[0m \u001b[0;34m\u001b[0m\u001b[0m\n\u001b[1;32m      9\u001b[0m \u001b[0;31m#In this example, we create a custom error message string that includes a placeholder for a value to be interpolated.\u001b[0m\u001b[0;34m\u001b[0m\u001b[0;34m\u001b[0m\u001b[0m\n",
      "\u001b[0;31mValueError\u001b[0m: Invalid value: 42"
     ]
    }
   ],
   "source": [
    "#Using the % operator or the format() method to interpolate values into a message string: \n",
    "#You can create a custom message string that includes placeholders for values to be interpolated, \n",
    "#and then use the % operator or the format() method to insert values into the string. For example:\n",
    "\n",
    "value = 42\n",
    "message = \"Invalid value: %s\" % value\n",
    "raise ValueError(message)\n",
    "\n",
    "#In this example, we create a custom error message string that includes a placeholder for a value to be interpolated.\n",
    "#We then use the % operator to insert the value 42 into the message string. \n",
    "#Finally, we raise a ValueError exception with the interpolated message string as the error message. \n",
    "#Alternatively, we could use the format() method to insert the value into the message string:\n",
    "\n",
    "value = 42\n",
    "message = \"Invalid value: {}\".format(value)\n",
    "raise ValueError(message)\n",
    "\n",
    "#This has the same effect as the previous example, but uses the format() method instead of the % operator.\n",
    "\n"
   ]
  },
  {
   "cell_type": "markdown",
   "id": "0c3033b8",
   "metadata": {},
   "source": [
    "Q5. Why do you no longer use string-based exceptions?\n",
    "=="
   ]
  },
  {
   "cell_type": "markdown",
   "id": "1601ada6",
   "metadata": {},
   "source": [
    "String-based exceptions were used in older versions of Python, but they have been deprecated since Python 2.5 and removed in Python 3.0. Instead, Python now uses class-based exceptions, which provide several benefits over string-based exceptions:\n",
    "\n",
    "1. Type safety: Class-based exceptions are strongly typed, which makes it easier to catch and handle specific types of exceptions. This improves the safety and reliability of your code.\n",
    "\n",
    "2. Inheritance: Class-based exceptions can be organized into a hierarchy, allowing you to define a common set of exception classes and inherit from them as needed. This can help reduce code duplication and make your exception handling code more maintainable.\n",
    "\n",
    "3. Attributes: Class-based exceptions can have attributes, such as an error code or a description of the error. This can provide additional context to the exception and make it easier to debug.\n",
    "\n",
    "4. Customization: With class-based exceptions, you can define your own exception classes and customize their behavior to meet your specific needs. This allows you to create more expressive and informative error messages that are tailored to your application.\n",
    "\n",
    "Overall, class-based exceptions provide a more powerful and flexible way to handle errors in Python, and they have largely replaced string-based exceptions in modern Python programming."
   ]
  },
  {
   "cell_type": "code",
   "execution_count": null,
   "id": "37239be7",
   "metadata": {},
   "outputs": [],
   "source": []
  }
 ],
 "metadata": {
  "kernelspec": {
   "display_name": "Python 3 (ipykernel)",
   "language": "python",
   "name": "python3"
  },
  "language_info": {
   "codemirror_mode": {
    "name": "ipython",
    "version": 3
   },
   "file_extension": ".py",
   "mimetype": "text/x-python",
   "name": "python",
   "nbconvert_exporter": "python",
   "pygments_lexer": "ipython3",
   "version": "3.9.12"
  }
 },
 "nbformat": 4,
 "nbformat_minor": 5
}
