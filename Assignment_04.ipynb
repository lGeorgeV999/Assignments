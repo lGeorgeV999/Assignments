{
 "cells": [
  {
   "cell_type": "markdown",
   "id": "205a3ccc",
   "metadata": {},
   "source": [
    "Q1. Which two operator overloading methods can you use in your classes to support iteration?\n",
    "=="
   ]
  },
  {
   "cell_type": "code",
   "execution_count": 3,
   "id": "22d270b5",
   "metadata": {},
   "outputs": [
    {
     "name": "stdout",
     "output_type": "stream",
     "text": [
      "1\n",
      "2\n",
      "3\n",
      "4\n",
      "5\n"
     ]
    }
   ],
   "source": [
    "#In Python, to support iteration in your custom classes, \n",
    "#you can use the following two operator overloading methods:\n",
    "\n",
    "#__iter__(self): This method returns an iterator object, which is an object that has a __next__() method that returns the next value in the iteration. \n",
    "#The __iter__() method is called when the iter() function is called on an instance of your class, and is expected to return an iterator.\n",
    "\n",
    "#__next__(self): This method returns the next value in the iteration, and raises the StopIteration exception when there are no more values to be returned. \n",
    "#The __next__() method is called each time the next() function is called on the iterator returned by the __iter__() method.\n",
    "\n",
    "#Here's an example that shows how to implement these methods to support iteration in a custom class:\n",
    "\n",
    "class MyList:\n",
    "    def __init__(self, data):\n",
    "        self.data = data\n",
    "\n",
    "    def __iter__(self):\n",
    "        self.index = 0\n",
    "        return self\n",
    "\n",
    "    def __next__(self):\n",
    "        if self.index >= len(self.data):\n",
    "            raise StopIteration\n",
    "        value = self.data[self.index]\n",
    "        self.index += 1\n",
    "        return value\n",
    "\n",
    "my_list = MyList([1, 2, 3, 4,5])\n",
    "\n",
    "for item in my_list:\n",
    "    print(item)\n",
    "    \n",
    "#In this example, the MyList class defines __iter__() and __next__() methods that allow instances of the class to be iterated over using a for loop. \n",
    "#When the iter() function is called on an instance of MyList, \n",
    "#the __iter__() method is called and returns the instance itself as an iterator.\n",
    "#Then, each time the next() function is called on the iterator, the __next__() method is called and returns the next value in the list, \n",
    "#until there are no more values to be returned and the StopIteration exception is raised.\n"
   ]
  },
  {
   "cell_type": "markdown",
   "id": "d7900f9c",
   "metadata": {},
   "source": [
    "Q2. In what contexts do the two operator overloading methods manage printing?\n",
    "=="
   ]
  },
  {
   "cell_type": "code",
   "execution_count": 6,
   "id": "37d76880",
   "metadata": {},
   "outputs": [
    {
     "name": "stdout",
     "output_type": "stream",
     "text": [
      "Sera, 30 years old\n",
      "Sera, 30 years old\n",
      "Person('Sera', 30)\n"
     ]
    }
   ],
   "source": [
    "#In Python, there are two operator overloading methods that can be used to manage printing in custom classes:\n",
    "\n",
    "#__str__(self): This method is called by the str() built-in function and the print() statement to convert an object to a string. \n",
    "#It should return a string representation of the object that is intended to be human-readable.\n",
    "\n",
    "#__repr__(self): This method is called by the repr() built-in function to convert an object to a string that can be used to recreate the object.\n",
    "#It should return a string representation of the object that is intended to be unambiguous and complete.\n",
    "\n",
    "#The difference between these two methods is that __str__() is intended to produce a user-friendly string representation of the object, \n",
    "#while __repr__() is intended to produce a complete and unambiguous string representation of the object that can be used to recreate it.\n",
    "\n",
    "#example\n",
    "\n",
    "class Person:\n",
    "    def __init__(self, name, age):\n",
    "        self.name = name\n",
    "        self.age = age\n",
    "\n",
    "    def __str__(self):\n",
    "        return f\"{self.name}, {self.age} years old\"\n",
    "\n",
    "    def __repr__(self):\n",
    "        return f\"Person('{self.name}', {self.age})\"\n",
    "\n",
    "person = Person(\"Sera\", 30)\n",
    "\n",
    "print(person)          # output: Alice, 30 years old\n",
    "print(str(person))     # output: Alice, 30 years old\n",
    "print(repr(person))    # output: Person('Alice', 30)\n",
    "\n",
    "#In this example, the Person class defines __str__() and __repr__() methods that allow instances of the class to be printed in a user-friendly or complete and unambiguous way. \n",
    "#When the print() function or the str() function is called on an instance of Person, the __str__() method is called and returns a user-friendly string representation of the object. \n",
    "#When the repr() function is called on an instance of Person, the __repr__() method is called and returns a complete and unambiguous string representation of the object."
   ]
  },
  {
   "cell_type": "markdown",
   "id": "c503f19c",
   "metadata": {},
   "source": [
    "Q3. In a class, how do you intercept slice operations?\n",
    "=="
   ]
  },
  {
   "cell_type": "code",
   "execution_count": 7,
   "id": "99ca88e6",
   "metadata": {},
   "outputs": [
    {
     "name": "stdout",
     "output_type": "stream",
     "text": [
      "<__main__.MyList object at 0x7f7e8d33b460>\n",
      "[2, 4, 6]\n"
     ]
    }
   ],
   "source": [
    "#To intercept slice operations in a class, you can define the __getitem__() method and check if the index being passed is a slice object. \n",
    "#If it is a slice object, you can then return a modified slice of the object as needed.\n",
    "\n",
    "#Here's an example of a class that intercepts slice operations:\n",
    "\n",
    "class MyList:\n",
    "    def __init__(self, items):\n",
    "        self.items = items\n",
    "\n",
    "    def __getitem__(self, index):\n",
    "        if isinstance(index, slice):\n",
    "            start, stop, step = index.start, index.stop, index.step\n",
    "            new_items = self.items[start:stop:step]  # modify slice as needed\n",
    "            return MyList(new_items)\n",
    "        else:\n",
    "            return self.items[index]\n",
    "        \n",
    "#In this example, the MyList class intercepts slice operations by defining the __getitem__() method. \n",
    "#The method checks if the index being passed is a slice object by using the isinstance() function to test if the index parameter is an instance of the slice class.\n",
    "\n",
    "#If the index is a slice object, the method extracts the start, stop, and step attributes of the slice object and uses them to modify the slice of the object's items attribute as needed. \n",
    "#In this example, the modified slice is used to create a new instance of the MyList class and returned.\n",
    "\n",
    "#If the index is not a slice object, the method simply returns the corresponding element from the items attribute.\n",
    "\n",
    "#Here's an example of how you can use this class to intercept slice operations:\n",
    "\n",
    "my_list = MyList([0, 1, 2, 3, 4, 5, 6, 7, 8, 9])\n",
    "\n",
    "print(my_list[2:7:2])   # output: <__main__.MyList object at 0x00000219B45AC430>\n",
    "print(my_list[2:7:2].items) \n",
    "\n",
    "\n",
    "\n"
   ]
  },
  {
   "cell_type": "markdown",
   "id": "8e261e56",
   "metadata": {},
   "source": [
    "Q4. In a class, how do you capture in-place addition?\n",
    "=="
   ]
  },
  {
   "cell_type": "code",
   "execution_count": 8,
   "id": "0905abc7",
   "metadata": {},
   "outputs": [
    {
     "name": "stdout",
     "output_type": "stream",
     "text": [
      "[0, 1, 2, 3, 4, 5]\n",
      "[0, 1, 2, 3, 4, 5, 6, 7, 8]\n"
     ]
    }
   ],
   "source": [
    "#In a class, you can capture in-place addition by defining the __iadd__() method. \n",
    "#The __iadd__() method is called when the += operator is used on an instance of the class.\n",
    "\n",
    "#Here's an example of a class that captures in-place addition:\n",
    "\n",
    "class MyList:\n",
    "    def __init__(self, items):\n",
    "        self.items = items\n",
    "\n",
    "    def __iadd__(self, other):\n",
    "        if isinstance(other, list):\n",
    "            self.items += other\n",
    "        else:\n",
    "            self.items.append(other)\n",
    "        return self\n",
    "    \n",
    "#In this example, the MyList class defines the __iadd__() method to capture in-place addition.\n",
    "#The method takes two parameters, self and other, where self is the instance of the class and other is the object being added to it.\n",
    "\n",
    "#The method checks if the other object is a list or not using the isinstance() function. \n",
    "#If other is a list, it is appended to the items attribute of the instance using the += operator. \n",
    "#If other is not a list, it is appended to the items attribute using the append() method. \n",
    "#Finally, the method returns self to allow for chaining of in-place addition operations.\n",
    "\n",
    "#Here's an example of how you can use this class to capture in-place addition:\n",
    "\n",
    "my_list = MyList([0, 1, 2, 3, 4])\n",
    "\n",
    "my_list += 5\n",
    "print(my_list.items)   # output: [0, 1, 2, 3, 4, 5]\n",
    "\n",
    "my_list += [6, 7, 8]\n",
    "print(my_list.items)   # output: [0, 1, 2, 3, 4, 5, 6, 7, 8]\n",
    "\n",
    "#In this example, the my_list object is an instance of the MyList class. \n",
    "#When we use the += operator to add 5 to my_list, the __iadd__() method is called with 5 as the other parameter. \n",
    "#Since 5 is not a list, it is appended to the items attribute using the append() method.\n",
    "\n",
    "\n",
    "#When we use the += operator to add [6, 7, 8] to my_list, the __iadd__() method \n",
    "#is called with [6, 7, 8] as the other parameter. \n",
    "#Since [6, 7, 8] is a list, it is appended to the items attribute using the += operator.\n"
   ]
  },
  {
   "cell_type": "markdown",
   "id": "cacff8dd",
   "metadata": {},
   "source": [
    "Q5.When is it appropriate to use operator overloading?\n",
    "=="
   ]
  },
  {
   "cell_type": "code",
   "execution_count": null,
   "id": "08eefe08",
   "metadata": {},
   "outputs": [],
   "source": [
    "#Operator overloading is appropriate when you want to give meaning to an operator in the context of a class. \n",
    "#It allows you to define how operators should behave when applied to instances of your class.\n",
    "\n",
    "Here are some situations where operator overloading can be appropriate:\n",
    "\n",
    "When you want to make your code more readable and expressive by allowing operators to work with your custom types in the same way they work with built-in types.\n",
    "\n",
    "When you want to define custom arithmetic operations or comparisons for your custom types. For example, you might want to define how addition should work with instances of your class, or how instances of your class should be sorted.\n",
    "\n",
    "When you want to make it easier to work with instances of your class in certain contexts. For example, you might want to define how instances of your class should be converted to strings, or how they should be used in a for loop.\n",
    "\n",
    "When you want to enforce certain constraints or behaviors on instances of your class. For example, you might want to make it impossible to add two instances of your class together in a certain way.\n",
    "\n",
    "Overall, operator overloading can be a powerful tool for making your code more expressive, readable, and intuitive. However, it should be used judiciously and with care, as it can also make your code more complex and harder to understand if overused."
   ]
  }
 ],
 "metadata": {
  "kernelspec": {
   "display_name": "Python 3 (ipykernel)",
   "language": "python",
   "name": "python3"
  },
  "language_info": {
   "codemirror_mode": {
    "name": "ipython",
    "version": 3
   },
   "file_extension": ".py",
   "mimetype": "text/x-python",
   "name": "python",
   "nbconvert_exporter": "python",
   "pygments_lexer": "ipython3",
   "version": "3.9.12"
  }
 },
 "nbformat": 4,
 "nbformat_minor": 5
}
