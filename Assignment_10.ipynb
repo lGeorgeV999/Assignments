{
 "cells": [
  {
   "cell_type": "markdown",
   "id": "f77390e0",
   "metadata": {},
   "source": [
    "**Q1.** What is the difference between __getattr__ and __getattribute__?"
   ]
  },
  {
   "cell_type": "markdown",
   "id": "248bf116",
   "metadata": {},
   "source": [
    "The main difference between __getattr__ and __getattribute__ is their behavior when accessing attributes of an object.\n",
    "\n",
    "__getattr__ is called when an attribute is not found using the usual attribute lookup. It is a fallback method that allows you to define custom behavior for attribute access. If an attribute is not found, __getattr__ is invoked and can provide a value for the attribute or raise an AttributeError if the attribute is truly undefined.\n",
    "\n",
    "__getattribute__, on the other hand, is called for every attribute access, whether the attribute exists or not. It is a more general method that intercepts all attribute access and allows you to customize the behavior completely. You can use __getattribute__ to dynamically compute or transform attribute values, control access to attributes, or raise exceptions based on attribute access.\n",
    "\n",
    "__getattr__ is invoked only when an attribute is not found using the usual lookup mechanism.\n",
    "__getattribute__ is called for every attribute access and allows complete control over attribute access.\n",
    "It's important to note that __getattribute__ can be powerful but also dangerous if not used carefully, as it can create infinite recursion if you're not careful to delegate attribute lookups appropriately."
   ]
  },
  {
   "cell_type": "markdown",
   "id": "54ad5d52",
   "metadata": {},
   "source": [
    "**Q2.** What is the difference between properties and descriptors?"
   ]
  },
  {
   "cell_type": "markdown",
   "id": "438d0d20",
   "metadata": {},
   "source": [
    "The main difference between properties and descriptors lies in their implementation and usage.\n",
    "\n",
    "Properties are a convenient way to manage attribute access and provide additional functionality, such as data validation or computed values, while maintaining a simple syntax. They are defined using the @property decorator and allow you to define methods for getting, setting, and deleting attribute values.\n",
    "\n",
    "Descriptors, on the other hand, provide a lower-level mechanism for controlling attribute access. They are defined by creating classes that implement the descriptor protocol, which involves defining __get__, __set__, and __delete__ methods. Descriptors allow you to customize attribute access at a more granular level, enabling fine-grained control over how attributes are retrieved, set, and deleted.\n",
    "\n",
    "In summary:\n",
    "\n",
    "Properties are a higher-level concept that allows you to define attribute access methods using a simple decorator (@property) syntax.\n",
    "Descriptors are a lower-level mechanism that involves creating classes implementing the descriptor protocol (__get__, __set__, __delete__) to customize attribute access behavior.\n",
    "Properties provide a more convenient and readable syntax for most attribute access scenarios, while descriptors offer greater flexibility and control for advanced use cases."
   ]
  },
  {
   "cell_type": "markdown",
   "id": "b93d6768",
   "metadata": {},
   "source": [
    "**Q3.** What are the key differences in functionality between __getattr__ and __getattribute__, as well as\n",
    "properties and descriptors?"
   ]
  },
  {
   "cell_type": "code",
   "execution_count": null,
   "id": "996bc6ae",
   "metadata": {},
   "outputs": [],
   "source": []
  }
 ],
 "metadata": {
  "kernelspec": {
   "display_name": "Python 3 (ipykernel)",
   "language": "python",
   "name": "python3"
  },
  "language_info": {
   "codemirror_mode": {
    "name": "ipython",
    "version": 3
   },
   "file_extension": ".py",
   "mimetype": "text/x-python",
   "name": "python",
   "nbconvert_exporter": "python",
   "pygments_lexer": "ipython3",
   "version": "3.9.12"
  }
 },
 "nbformat": 4,
 "nbformat_minor": 5
}
