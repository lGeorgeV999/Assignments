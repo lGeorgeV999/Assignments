{
 "cells": [
  {
   "cell_type": "markdown",
   "id": "55c11959",
   "metadata": {},
   "source": [
    "**Q1.** What is the difference between __getattr__ and __getattribute__?"
   ]
  },
  {
   "cell_type": "markdown",
   "id": "2b82eb4d",
   "metadata": {},
   "source": [
    "The main difference between __getattr__ and __getattribute__ is their behavior when accessing attributes of an object.\n",
    "\n",
    "__getattr__ is called when an attribute is not found using the usual attribute lookup. It is a fallback method that allows you to define custom behavior for attribute access. If an attribute is not found, __getattr__ is invoked and can provide a value for the attribute or raise an AttributeError if the attribute is truly undefined.\n",
    "\n",
    "__getattribute__, on the other hand, is called for every attribute access, whether the attribute exists or not. It is a more general method that intercepts all attribute access and allows you to customize the behavior completely. You can use __getattribute__ to dynamically compute or transform attribute values, control access to attributes, or raise exceptions based on attribute access.\n",
    "\n",
    "__getattr__ is invoked only when an attribute is not found using the usual lookup mechanism.\n",
    "__getattribute__ is called for every attribute access and allows complete control over attribute access.\n",
    "It's important to note that __getattribute__ can be powerful but also dangerous if not used carefully, as it can create infinite recursion if you're not careful to delegate attribute lookups appropriately."
   ]
  },
  {
   "cell_type": "markdown",
   "id": "1a2831aa",
   "metadata": {},
   "source": [
    "**Q2.** What is the difference between properties and descriptors?"
   ]
  },
  {
   "cell_type": "markdown",
   "id": "ebdb1256",
   "metadata": {},
   "source": [
    "The main difference between properties and descriptors lies in their implementation and usage.\n",
    "\n",
    "Properties are a convenient way to manage attribute access and provide additional functionality, such as data validation or computed values, while maintaining a simple syntax. They are defined using the @property decorator and allow you to define methods for getting, setting, and deleting attribute values.\n",
    "\n",
    "Descriptors, on the other hand, provide a lower-level mechanism for controlling attribute access. They are defined by creating classes that implement the descriptor protocol, which involves defining __get__, __set__, and __delete__ methods. Descriptors allow you to customize attribute access at a more granular level, enabling fine-grained control over how attributes are retrieved, set, and deleted.\n",
    "\n",
    "In summary:\n",
    "\n",
    "Properties are a higher-level concept that allows you to define attribute access methods using a simple decorator (@property) syntax.\n",
    "Descriptors are a lower-level mechanism that involves creating classes implementing the descriptor protocol (__get__, __set__, __delete__) to customize attribute access behavior.\n",
    "Properties provide a more convenient and readable syntax for most attribute access scenarios, while descriptors offer greater flexibility and control for advanced use cases."
   ]
  },
  {
   "cell_type": "markdown",
   "id": "5b3b8167",
   "metadata": {},
   "source": [
    "**Q3.** What are the key differences in functionality between __getattr__ and __getattribute__, as well as\n",
    "properties and descriptors?"
   ]
  },
  {
   "cell_type": "markdown",
   "id": "2ad22f89",
   "metadata": {},
   "source": [
    "The key differences in functionality between __getattr__, __getattribute__, properties, and descriptors are as follows:\n",
    "\n",
    "__getattr__ vs. __getattribute__:\n",
    "\n",
    "__getattr__: This method is called when an attribute is accessed and not found through the normal lookup process. It allows you to dynamically provide attribute values or handle attribute access errors.\n",
    "__getattribute__: This method is called for every attribute access, whether the attribute exists or not. It allows you to intercept and modify attribute access behavior for all attributes.\n",
    "Properties vs. Descriptors:\n",
    "\n",
    "Properties: Properties provide a convenient way to define getter, setter, and deleter methods for attributes. They allow you to add additional functionality, such as data validation or computed values, while maintaining a simple attribute access syntax.\n",
    "\n",
    "Descriptors: Descriptors are a lower-level mechanism for controlling attribute access. They are defined by creating classes that implement the descriptor protocol (__get__, __set__, __delete__ methods). Descriptors allow you to customize attribute access at a more granular level, giving you fine-grained control over how attributes are retrieved, set, and deleted.\n",
    "\n",
    "__getattr__ handles attribute access for non-existent attributes, while __getattribute__ handles all attribute access.\n",
    "Properties provide a convenient way to define attribute access methods with additional functionality.\n",
    "Descriptors offer a lower-level mechanism for controlling attribute access and allow for more customization and fine-grained control over attribute behavior."
   ]
  },
  {
   "cell_type": "code",
   "execution_count": null,
   "id": "b6216b61",
   "metadata": {},
   "outputs": [],
   "source": []
  }
 ],
 "metadata": {
  "kernelspec": {
   "display_name": "Python 3 (ipykernel)",
   "language": "python",
   "name": "python3"
  },
  "language_info": {
   "codemirror_mode": {
    "name": "ipython",
    "version": 3
   },
   "file_extension": ".py",
   "mimetype": "text/x-python",
   "name": "python",
   "nbconvert_exporter": "python",
   "pygments_lexer": "ipython3",
   "version": "3.9.12"
  }
 },
 "nbformat": 4,
 "nbformat_minor": 5
}
